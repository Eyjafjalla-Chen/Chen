{
 "cells": [
  {
   "cell_type": "markdown",
   "id": "f915d371",
   "metadata": {},
   "source": [
    "# Math. Foundation for E.A. - TP n°7 - La courbe brachistochrone\n",
    "\n",
    "Ce TP fait suite au précédent à propos du déplacement d'une bille sur une courbe. On s'intéresse au problème de trouver la courbe qui minimise le temps de parcourt entre deux points fixés. Cette type de courbe est dite brachistrochrone (du grec *brakhistos* : «le plus court» et *chronos* : «le temps»). \n",
    "\n",
    "On reprend les notations du TP précédent. On fixe un point $A(x_A,y_A)$ sur la courbe représentative de $f$ (avec $y_A=f(x_A)<0$) et on note \n",
    "\n",
    "$$T_A(f)=\\int_0^{x_A}\\sqrt{\\frac{1+f'(x)^2}{-2gf(x)}}\\mathrm{d}x$$\n",
    "\n",
    "le temps de parcours mis par la bille entre les points $M_0(0,0)$ et $M_{T_A(f)}=A$. L'objectif de ce TP est de trouver la fonction $f$ telle que $T_A(f)$ est minimal.\n",
    "\n",
    "La première partie propose de modéliser quelques exemples. Dans la deuxième partie, on montre à l'aide de calcul variationnel que la fonction $f$ cherchée est solution d'une équation différentielle. Enfin, la troisième partie présente une reparamétrisation de la courbe représentative de $f$.\n",
    "\n",
    "## Partie 1 - Modélisation de quelques exemples\n",
    "\n",
    "Dans cette partie, on considère trois exemples de fonctions dont les courbes représentatives passent par $O=(0,0)$ et $A=(1,-1)$ :\n",
    "- $f_1$ une fonction affine dont la courbe représentative est la droite $(OA)$,\n",
    "- $f_2$ une fonction polynomiale de degré $2$ dont la courbe représentative est la parabole qui atteint son minimimun en $A$,\n",
    "- $f_3$ une fonction dont la courbe représentative entre $O$ et $A$ est un quart de cercle de rayon $1$.\n",
    "\n",
    "On renvoie au TP précédent pour créer des animations à l'aide de la fonction `FuncAnimation` de la bibliothèque `matplotlib.animation`."
   ]
  },
  {
   "cell_type": "code",
   "execution_count": 1,
   "id": "47525e4a",
   "metadata": {},
   "outputs": [],
   "source": [
    "import matplotlib.pyplot as plt\n",
    "import matplotlib.animation as animation\n",
    "from IPython.display import HTML\n"
   ]
  },
  {
   "cell_type": "markdown",
   "id": "ff5f6b62",
   "metadata": {},
   "source": [
    "1. Créer une animation modélisant le déplacement simultané de trois billes sur les courbes représentatives de $f_1$, $f_2$ et $f_3$."
   ]
  },
  {
   "cell_type": "code",
   "execution_count": 1,
   "id": "b86d9158",
   "metadata": {},
   "outputs": [],
   "source": [
    "import numpy as np\n",
    "\n",
    "def f1(x):\n",
    "    y1 = -x\n",
    "    return y1\n",
    "\n",
    "def f2(x):\n",
    "    y2 = x**2 - 2*x\n",
    "    return y2\n",
    "\n",
    "def f3(x):\n",
    "    y3 = - np.sqrt(2*x - x**2)\n",
    "    return y3"
   ]
  },
  {
   "cell_type": "markdown",
   "id": "3bc5c4f4",
   "metadata": {},
   "source": [
    "2. Calculer une approximation du temps mis par la bille pour chacun des trois parcours."
   ]
  },
  {
   "cell_type": "code",
   "execution_count": null,
   "id": "bda9e695",
   "metadata": {},
   "outputs": [],
   "source": [
    "def t(x):\n",
    "    tx = "
   ]
  },
  {
   "cell_type": "code",
   "execution_count": null,
   "id": "e317eb64",
   "metadata": {},
   "outputs": [],
   "source": []
  },
  {
   "cell_type": "markdown",
   "id": "bac74010",
   "metadata": {},
   "source": [
    "## Partie 2 - Un peu de calcul variationnel\n",
    "\n",
    "Pour trouver la fonction $f$ qui minimise $T_A(f)$, on va utiliser le théorème suivant (admis) qui est à la base du calcul variationnel :\n",
    "\n",
    "$$\\boxed{\\begin{array}{c} \\text{Soit $(x,y,z)\\mapsto\\Phi(x,y,z)$ une fonction de trois variables suffisamment régulière.} \\\\ \\text{Si $g\\in\\mathscr{C}^1([a,b])$ minimise la quantité $\\displaystyle\\int_a^b\\Phi\\big(x,g(x),g'(x)\\big)\\mathrm{d}x$} \\\\ \\text{alors $g$ vérifie l'}\\textbf{équation d'Euler-Lagrange}\\text{ pour tout $x\\in[a,b]$ :} \\\\ \\boxed{\\displaystyle\\frac{\\partial\\Phi}{\\partial y}\\big(x,g(x),g'(x)\\big)-\\frac{\\mathrm{d}}{\\mathrm{d}x}\\left(\\frac{\\partial\\Phi}{\\partial z}\\big(x,g(x),g'(x)\\big)\\right)=0}. \\end{array}}$$\n",
    "\n",
    "3. Montrer que si $f\\in\\mathscr{C}^1([0,x_A])$ minimise $T_A(f)$ alors $f$ vérifie l'équation différentielle : $1+f'^2+2ff''=0$.\n",
    "\n",
    "4. À l'aide de la méthode d'Euler, écrire une fonction `graphe_solution(xA,NbSub,NbPoints)` qui trace une approximation de la courbe représentative de la fonction $f$ cherchée sur $[0,x_A]$."
   ]
  },
  {
   "cell_type": "code",
   "execution_count": null,
   "id": "1fcc0f8e",
   "metadata": {},
   "outputs": [],
   "source": []
  },
  {
   "cell_type": "code",
   "execution_count": null,
   "id": "86c970d2",
   "metadata": {},
   "outputs": [],
   "source": []
  }
 ],
 "metadata": {
  "kernelspec": {
   "display_name": "Python 3 (ipykernel)",
   "language": "python",
   "name": "python3"
  },
  "language_info": {
   "codemirror_mode": {
    "name": "ipython",
    "version": 3
   },
   "file_extension": ".py",
   "mimetype": "text/x-python",
   "name": "python",
   "nbconvert_exporter": "python",
   "pygments_lexer": "ipython3",
   "version": "3.9.12"
  }
 },
 "nbformat": 4,
 "nbformat_minor": 5
}
